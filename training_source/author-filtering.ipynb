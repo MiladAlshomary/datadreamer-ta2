{
 "cells": [
  {
   "cell_type": "code",
   "execution_count": 1,
   "id": "6b7f4aa4-1afc-4df0-9238-df1c59e72351",
   "metadata": {},
   "outputs": [],
   "source": [
    "%load_ext autoreload"
   ]
  },
  {
   "cell_type": "code",
   "execution_count": 2,
   "id": "d8438da9-36f1-40ee-a1b8-b65233080999",
   "metadata": {},
   "outputs": [],
   "source": [
    "import sys"
   ]
  },
  {
   "cell_type": "code",
   "execution_count": 3,
   "id": "ef9cd191-1976-48d8-812e-3636136257ec",
   "metadata": {},
   "outputs": [
    {
     "name": "stderr",
     "output_type": "stream",
     "text": [
      "/burg/home/ma4608/.local/lib/python3.11/site-packages/sentence_transformers/cross_encoder/CrossEncoder.py:11: TqdmExperimentalWarning: Using `tqdm.autonotebook.tqdm` in notebook mode. Use `tqdm.tqdm` instead to force console mode (e.g. in jupyter console)\n",
      "  from tqdm.autonotebook import tqdm, trange\n",
      "2024-09-30 05:15:33.132357: I tensorflow/core/util/port.cc:111] oneDNN custom operations are on. You may see slightly different numerical results due to floating-point round-off errors from different computation orders. To turn them off, set the environment variable `TF_ENABLE_ONEDNN_OPTS=0`.\n",
      "2024-09-30 05:15:33.135967: I tensorflow/tsl/cuda/cudart_stub.cc:28] Could not find cuda drivers on your machine, GPU will not be used.\n",
      "2024-09-30 05:15:33.174296: E tensorflow/compiler/xla/stream_executor/cuda/cuda_dnn.cc:9342] Unable to register cuDNN factory: Attempting to register factory for plugin cuDNN when one has already been registered\n",
      "2024-09-30 05:15:33.174317: E tensorflow/compiler/xla/stream_executor/cuda/cuda_fft.cc:609] Unable to register cuFFT factory: Attempting to register factory for plugin cuFFT when one has already been registered\n",
      "2024-09-30 05:15:33.174339: E tensorflow/compiler/xla/stream_executor/cuda/cuda_blas.cc:1518] Unable to register cuBLAS factory: Attempting to register factory for plugin cuBLAS when one has already been registered\n",
      "2024-09-30 05:15:33.185181: I tensorflow/core/platform/cpu_feature_guard.cc:182] This TensorFlow binary is optimized to use available CPU instructions in performance-critical operations.\n",
      "To enable the following instructions: AVX2 AVX512F AVX512_VNNI FMA, in other operations, rebuild TensorFlow with the appropriate compiler flags.\n",
      "2024-09-30 05:15:34.560393: W tensorflow/compiler/tf2tensorrt/utils/py_utils.cc:38] TF-TRT Warning: Could not find TensorRT\n",
      "/burg/home/ma4608/.local/lib/python3.11/site-packages/torchvision/io/image.py:13: UserWarning: Failed to load image Python extension: '/burg/home/ma4608/.local/lib/python3.11/site-packages/torchvision/image.so: undefined symbol: _ZN3c1017RegisterOperatorsD1Ev'If you don't plan on using image functionality from `torchvision.io`, you can ignore this warning. Otherwise, there might be something wrong with your environment. Did you have `libjpeg` or `libpng` installed before building `torchvision` from source?\n",
      "  warn(\n"
     ]
    }
   ],
   "source": [
    "%autoreload\n",
    "\n",
    "import json\n",
    "from pathlib import Path\n",
    "import pandas as pd\n",
    "import numpy as np\n",
    "from sklearn.metrics.pairwise import cosine_similarity\n",
    "from sentence_transformers import SentenceTransformer\n",
    "import tqdm"
   ]
  },
  {
   "cell_type": "code",
   "execution_count": 4,
   "id": "30d9be86-82c6-4308-a8db-a72deaf16fdd",
   "metadata": {
    "scrolled": true
   },
   "outputs": [],
   "source": [
    "model = SentenceTransformer('sentence-transformers/all-MiniLM-L6-v2')"
   ]
  },
  {
   "cell_type": "code",
   "execution_count": 5,
   "id": "ab04eff5-8868-47f9-bd70-7da78535f56e",
   "metadata": {},
   "outputs": [],
   "source": [
    "def author_pair_similarity(documents_ids, documents):\n",
    "    #print(documents)\n",
    "    document_embeddings = model.encode(documents)\n",
    "    #print(document_embeddings)\n",
    "    pairwise_sim = cosine_similarity(document_embeddings, dense_output=True)\n",
    "    #print(pairwise_sim)\n",
    "    docs_sims = {}\n",
    "    for i, di in enumerate(documents_ids):\n",
    "        for j, dj in enumerate(documents_ids):\n",
    "            if j <= i:\n",
    "                continue\n",
    "            docs_sims[(di, dj)] = pairwise_sim[i,j]\n",
    "            \n",
    "    return docs_sims"
   ]
  },
  {
   "cell_type": "code",
   "execution_count": 6,
   "id": "8b84dd10-35f5-4068-9e9f-ff70b26ea844",
   "metadata": {},
   "outputs": [],
   "source": [
    "def extract_split_similarity_info(path, split, author_clm=\"authorIDs\", max_sim=0.2, max_sample_size=10000):\n",
    "    df_paths = Path(ds_path).glob(\"{}*.jsonl\".format(split))\n",
    "    df_paths = [path for path in df_paths if 'filtered' not in str(path)]\n",
    "    print(df_paths)\n",
    "    \n",
    "    dfs = {p: pd.read_json(p, lines=True) for p in df_paths}\n",
    "    \n",
    "    for p, df in dfs.items():\n",
    "        df['authorID'] = df[author_clm].apply(lambda x:x[0])    \n",
    "    \n",
    "    df = pd.concat(list(dfs.values()))\n",
    "    \n",
    "    gdf = df.groupby('authorID').agg({'documentID': lambda x: list(x), 'fullText': lambda x: list(x)}).reset_index()\n",
    "    gdf = gdf[gdf.documentID.str.len() > 1]\n",
    "\n",
    "    gdf_sample = gdf #gdf.sample(10)\n",
    "    pairwise_sims = []\n",
    "    for idx, row in tqdm.tqdm(gdf_sample.iterrows(),):\n",
    "        pairwise_sims.append(author_pair_similarity(row['documentID'], row['fullText']))\n",
    "\n",
    "    gdf_sample['pairwise_sims'] = pairwise_sims\n",
    "    gdf_sample['max_sim'] = gdf_sample.pairwise_sims.apply(lambda sims: sorted(sims.items(), key=lambda x: x[1])[-1][1])\n",
    "    gdf_sample = gdf_sample[['authorID', 'pairwise_sims', 'max_sim']]\n",
    "    gdf_sample = gdf_sample[gdf_sample.max_sim < 0.2]\n",
    "    filtered_authors = gdf_sample.authorID.tolist()\n",
    "\n",
    "    for p, df in dfs.items():\n",
    "        print('{} --> {}'.format(len(df), len(df[df.authorID.isin(filtered_authors)])))\n",
    "        df = df[df.authorID.isin(filtered_authors)]\n",
    "        df = df.sample(max_sample_size) if len(df) > max_sample_size else df\n",
    "        with open(str(p).replace('.jsonl','_filtered.jsonl'), \"w\") as f:\n",
    "            f.write(df.to_json(orient='records', lines=True))\n",
    "\n",
    "    gdf_sample.to_json(path + '/' + split + '_info.json')\n",
    "    return gdf_sample"
   ]
  },
  {
   "cell_type": "code",
   "execution_count": 23,
   "id": "25390d7a-9c7c-4660-87d5-376f49bdacb2",
   "metadata": {
    "scrolled": true
   },
   "outputs": [
    {
     "name": "stdout",
     "output_type": "stream",
     "text": [
      "[PosixPath('/burg/old_dsi/users/ma4608/hiatus_performers_data/sadiri/gmane/dev_candidates.jsonl'), PosixPath('/burg/old_dsi/users/ma4608/hiatus_performers_data/sadiri/gmane/dev_queries.jsonl')]\n"
     ]
    },
    {
     "name": "stderr",
     "output_type": "stream",
     "text": [
      "33538it [03:01, 184.52it/s]\n"
     ]
    },
    {
     "name": "stdout",
     "output_type": "stream",
     "text": [
      "33538 --> 13582\n",
      "33538 --> 13582\n",
      "[PosixPath('/burg/old_dsi/users/ma4608/hiatus_performers_data/sadiri/gmane/test_candidates.jsonl'), PosixPath('/burg/old_dsi/users/ma4608/hiatus_performers_data/sadiri/gmane/test_queries.jsonl')]\n"
     ]
    },
    {
     "name": "stderr",
     "output_type": "stream",
     "text": [
      "65102it [05:52, 184.68it/s]\n"
     ]
    },
    {
     "name": "stdout",
     "output_type": "stream",
     "text": [
      "65102 --> 26435\n",
      "65103 --> 26435\n",
      "[PosixPath('/burg/old_dsi/users/ma4608/hiatus_performers_data/sadiri/gmane/train_candidates.jsonl'), PosixPath('/burg/old_dsi/users/ma4608/hiatus_performers_data/sadiri/gmane/train_queries.jsonl')]\n"
     ]
    },
    {
     "name": "stderr",
     "output_type": "stream",
     "text": [
      "558885it [50:15, 185.34it/s]\n"
     ]
    },
    {
     "name": "stdout",
     "output_type": "stream",
     "text": [
      "558926 --> 225898\n",
      "558918 --> 225898\n"
     ]
    }
   ],
   "source": [
    "#ds_path = '/mnt/swordfish-pool2/milad/hiatus-data/performers-data/tmp-data/'\n",
    "ds_path = '/burg/old_dsi/users/ma4608/hiatus_performers_data/sadiri/gmane/'\n",
    "df_info = extract_split_similarity_info(ds_path, 'dev', max_sample_size=5000)\n",
    "df_info = extract_split_similarity_info(ds_path, 'test', max_sample_size=5000)\n",
    "df_info = extract_split_similarity_info(ds_path, 'train', max_sample_size=10000)"
   ]
  },
  {
   "cell_type": "code",
   "execution_count": 25,
   "id": "be52b80a-0807-476f-8be9-aaa41cfc770c",
   "metadata": {
    "scrolled": true
   },
   "outputs": [
    {
     "name": "stdout",
     "output_type": "stream",
     "text": [
      "[PosixPath('/burg/old_dsi/users/ma4608/hiatus_performers_data/sadiri/bookcorpus/dev_candidates.jsonl'), PosixPath('/burg/old_dsi/users/ma4608/hiatus_performers_data/sadiri/bookcorpus/dev_queries.jsonl')]\n"
     ]
    },
    {
     "name": "stderr",
     "output_type": "stream",
     "text": [
      "3379it [00:31, 107.96it/s]\n"
     ]
    },
    {
     "name": "stdout",
     "output_type": "stream",
     "text": [
      "3379 --> 437\n",
      "3379 --> 437\n",
      "[PosixPath('/burg/old_dsi/users/ma4608/hiatus_performers_data/sadiri/bookcorpus/test_candidates.jsonl'), PosixPath('/burg/old_dsi/users/ma4608/hiatus_performers_data/sadiri/bookcorpus/test_queries.jsonl')]\n"
     ]
    },
    {
     "name": "stderr",
     "output_type": "stream",
     "text": [
      "6560it [00:53, 122.42it/s]\n"
     ]
    },
    {
     "name": "stdout",
     "output_type": "stream",
     "text": [
      "6560 --> 891\n",
      "6560 --> 891\n",
      "[PosixPath('/burg/old_dsi/users/ma4608/hiatus_performers_data/sadiri/bookcorpus/train_candidates.jsonl'), PosixPath('/burg/old_dsi/users/ma4608/hiatus_performers_data/sadiri/bookcorpus/train_queries.jsonl')]\n"
     ]
    },
    {
     "name": "stderr",
     "output_type": "stream",
     "text": [
      "56319it [07:40, 122.18it/s]\n"
     ]
    },
    {
     "name": "stdout",
     "output_type": "stream",
     "text": [
      "56319 --> 7469\n",
      "56319 --> 7469\n"
     ]
    }
   ],
   "source": [
    "#ds_path = '/mnt/swordfish-pool2/milad/hiatus-data/performers-data/tmp-data/'\n",
    "ds_path = '/burg/old_dsi/users/ma4608/hiatus_performers_data/sadiri/bookcorpus/'\n",
    "df_info = extract_split_similarity_info(ds_path, 'dev', max_sample_size=5000)\n",
    "df_info = extract_split_similarity_info(ds_path, 'test', max_sample_size=5000)\n",
    "df_info = extract_split_similarity_info(ds_path, 'train', max_sample_size=10000)"
   ]
  },
  {
   "cell_type": "code",
   "execution_count": 26,
   "id": "17b242cd-fcac-4445-b18d-0dd42b0a994c",
   "metadata": {
    "scrolled": true
   },
   "outputs": [
    {
     "name": "stdout",
     "output_type": "stream",
     "text": [
      "[PosixPath('/burg/old_dsi/users/ma4608/hiatus_performers_data/sadiri/realnews/dev_candidates.jsonl'), PosixPath('/burg/old_dsi/users/ma4608/hiatus_performers_data/sadiri/realnews/dev_queries.jsonl')]\n"
     ]
    },
    {
     "name": "stderr",
     "output_type": "stream",
     "text": [
      "10861it [01:45, 103.29it/s]\n"
     ]
    },
    {
     "name": "stdout",
     "output_type": "stream",
     "text": [
      "10861 --> 2847\n",
      "10861 --> 2847\n",
      "[PosixPath('/burg/old_dsi/users/ma4608/hiatus_performers_data/sadiri/realnews/test_candidates.jsonl'), PosixPath('/burg/old_dsi/users/ma4608/hiatus_performers_data/sadiri/realnews/test_queries.jsonl')]\n"
     ]
    },
    {
     "name": "stderr",
     "output_type": "stream",
     "text": [
      "21085it [03:25, 102.75it/s]\n"
     ]
    },
    {
     "name": "stdout",
     "output_type": "stream",
     "text": [
      "21085 --> 5476\n",
      "21085 --> 5476\n",
      "[PosixPath('/burg/old_dsi/users/ma4608/hiatus_performers_data/sadiri/realnews/train_candidates.jsonl'), PosixPath('/burg/old_dsi/users/ma4608/hiatus_performers_data/sadiri/realnews/train_queries.jsonl')]\n"
     ]
    },
    {
     "name": "stderr",
     "output_type": "stream",
     "text": [
      "181024it [29:26, 102.49it/s]\n"
     ]
    },
    {
     "name": "stdout",
     "output_type": "stream",
     "text": [
      "181024 --> 46617\n",
      "181024 --> 46617\n"
     ]
    }
   ],
   "source": [
    "#ds_path = '/mnt/swordfish-pool2/milad/hiatus-data/performers-data/tmp-data/'\n",
    "ds_path = '/burg/old_dsi/users/ma4608/hiatus_performers_data/sadiri/realnews'\n",
    "df_info = extract_split_similarity_info(ds_path, 'dev', max_sample_size=5000)\n",
    "df_info = extract_split_similarity_info(ds_path, 'test', max_sample_size=5000)\n",
    "df_info = extract_split_similarity_info(ds_path, 'train', max_sample_size=10000)"
   ]
  },
  {
   "cell_type": "code",
   "execution_count": null,
   "id": "ab21e8d6-49a9-4694-b514-6333de2eabca",
   "metadata": {},
   "outputs": [],
   "source": [
    "#ds_path = '/mnt/swordfish-pool2/milad/hiatus-data/performers-data/tmp-data/'\n",
    "ds_path = '/burg/old_dsi/users/ma4608/hiatus_performers_data/sadiri/ao3/'\n",
    "df_info = extract_split_similarity_info(ds_path, 'dev')\n",
    "df_info = extract_split_similarity_info(ds_path, 'test')\n",
    "df_info = extract_split_similarity_info(ds_path, 'train')"
   ]
  }
 ],
 "metadata": {
  "kernelspec": {
   "display_name": "Python 3 (ipykernel)",
   "language": "python",
   "name": "python3"
  },
  "language_info": {
   "codemirror_mode": {
    "name": "ipython",
    "version": 3
   },
   "file_extension": ".py",
   "mimetype": "text/x-python",
   "name": "python",
   "nbconvert_exporter": "python",
   "pygments_lexer": "ipython3",
   "version": "3.11.5"
  }
 },
 "nbformat": 4,
 "nbformat_minor": 5
}
