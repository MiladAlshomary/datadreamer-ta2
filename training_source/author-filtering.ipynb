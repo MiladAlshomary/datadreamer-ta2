{
 "cells": [
  {
   "cell_type": "code",
   "execution_count": 1,
   "id": "6b7f4aa4-1afc-4df0-9238-df1c59e72351",
   "metadata": {},
   "outputs": [],
   "source": [
    "%load_ext autoreload"
   ]
  },
  {
   "cell_type": "code",
   "execution_count": 2,
   "id": "d8438da9-36f1-40ee-a1b8-b65233080999",
   "metadata": {},
   "outputs": [],
   "source": [
    "import sys"
   ]
  },
  {
   "cell_type": "code",
   "execution_count": 3,
   "id": "ef9cd191-1976-48d8-812e-3636136257ec",
   "metadata": {},
   "outputs": [],
   "source": [
    "%autoreload\n",
    "\n",
    "import json\n",
    "from pathlib import Path\n",
    "import pandas as pd\n",
    "import numpy as np\n",
    "from sklearn.metrics.pairwise import cosine_similarity\n",
    "from sentence_transformers import SentenceTransformer\n",
    "import tqdm"
   ]
  },
  {
   "cell_type": "code",
   "execution_count": 5,
   "id": "30d9be86-82c6-4308-a8db-a72deaf16fdd",
   "metadata": {
    "scrolled": true
   },
   "outputs": [
    {
     "name": "stderr",
     "output_type": "stream",
     "text": [
      "/mnt/swordfish-pool2/milad/conda-envs/gpu-env/lib/python3.11/site-packages/huggingface_hub/file_download.py:1150: FutureWarning: `resume_download` is deprecated and will be removed in version 1.0.0. Downloads always resume when possible. If you want to force a new download, use `force_download=True`.\n",
      "  warnings.warn(\n",
      "/mnt/swordfish-pool2/milad/conda-envs/gpu-env/lib/python3.11/site-packages/huggingface_hub/file_download.py:1150: FutureWarning: `resume_download` is deprecated and will be removed in version 1.0.0. Downloads always resume when possible. If you want to force a new download, use `force_download=True`.\n",
      "  warnings.warn(\n"
     ]
    }
   ],
   "source": [
    "model = SentenceTransformer('sentence-transformers/all-MiniLM-L6-v2')"
   ]
  },
  {
   "cell_type": "code",
   "execution_count": 6,
   "id": "ab04eff5-8868-47f9-bd70-7da78535f56e",
   "metadata": {},
   "outputs": [],
   "source": [
    "def author_pair_similarity(documents_ids, documents):\n",
    "    #print(documents)\n",
    "    document_embeddings = model.encode(documents)\n",
    "    #print(document_embeddings)\n",
    "    pairwise_sim = cosine_similarity(document_embeddings, dense_output=True)\n",
    "    #print(pairwise_sim)\n",
    "    docs_sims = {}\n",
    "    for i, di in enumerate(documents_ids):\n",
    "        for j, dj in enumerate(documents_ids):\n",
    "            if j <= i:\n",
    "                continue\n",
    "            docs_sims[(di, dj)] = pairwise_sim[i,j]\n",
    "            \n",
    "    return docs_sims"
   ]
  },
  {
   "cell_type": "code",
   "execution_count": 58,
   "id": "8b84dd10-35f5-4068-9e9f-ff70b26ea844",
   "metadata": {},
   "outputs": [],
   "source": [
    "def extract_split_similarity_info(path, split, author_clm=\"authorIDs\", max_sim=0.2):\n",
    "    df_paths = Path(ds_path).glob(\"{}*.jsonl\".format(split))\n",
    "    dfs = {p: pd.read_json(p, lines=True) for p in df_paths}\n",
    "    for p, df in dfs.items():\n",
    "        df['authorID'] = df[author_clm].apply(lambda x:x[0])    \n",
    "    \n",
    "    df = pd.concat(list(dfs.values()))\n",
    "    \n",
    "    gdf = df.groupby('authorID').agg({'documentID': lambda x: list(x), 'fullText': lambda x: list(x)}).reset_index()\n",
    "    gdf = gdf[gdf.documentID.str.len() > 1]\n",
    "\n",
    "    gdf_sample = gdf.sample(10)\n",
    "    pairwise_sims = []\n",
    "    for idx, row in tqdm.tqdm(gdf_sample.iterrows()):\n",
    "        pairwise_sims.append(author_pair_similarity(row['documentID'], row['fullText']))\n",
    "\n",
    "    gdf_sample['pairwise_sims'] = pairwise_sims\n",
    "    gdf_sample['max_sim'] = gdf_sample.pairwise_sims.apply(lambda sims: sorted(sims.items(), key=lambda x: x[1])[-1][1])\n",
    "    gdf_sample = gdf_sample[['authorID', 'pairwise_sims', 'max_sim']]\n",
    "    gdf_sample = gdf_sample[gdf_sample.max_sim < 0.2]\n",
    "    filtered_authors = gdf_sample.authorID.tolist()\n",
    "\n",
    "    for p, df in dfs.items():\n",
    "        df = df[df.authorID.isin(filtered_authors)]\n",
    "        with open(str(p).replace('.jsonl','_filtered.jsonl'), \"w\") as f:\n",
    "            f.write(df.to_json(orient='records', lines=True))\n",
    "\n",
    "    gdf_sample.to_json(path + '/' + split + '_info.json')\n",
    "    return gdf_sample"
   ]
  },
  {
   "cell_type": "code",
   "execution_count": 59,
   "id": "25390d7a-9c7c-4660-87d5-376f49bdacb2",
   "metadata": {},
   "outputs": [
    {
     "name": "stderr",
     "output_type": "stream",
     "text": [
      "10it [00:00, 127.89it/s]\n"
     ]
    }
   ],
   "source": [
    "ds_path = '/mnt/swordfish-pool2/milad/hiatus-data/performers-data/tmp-data/'\n",
    "df_info = extract_split_similarity_info(ds_path, 'dev')"
   ]
  }
 ],
 "metadata": {
  "kernelspec": {
   "display_name": "Python 3 (ipykernel)",
   "language": "python",
   "name": "python3"
  },
  "language_info": {
   "codemirror_mode": {
    "name": "ipython",
    "version": 3
   },
   "file_extension": ".py",
   "mimetype": "text/x-python",
   "name": "python",
   "nbconvert_exporter": "python",
   "pygments_lexer": "ipython3",
   "version": "3.11.9"
  }
 },
 "nbformat": 4,
 "nbformat_minor": 5
}
