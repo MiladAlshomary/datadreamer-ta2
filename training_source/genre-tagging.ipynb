{
 "cells": [
  {
   "cell_type": "code",
   "execution_count": 1,
   "id": "6b7f4aa4-1afc-4df0-9238-df1c59e72351",
   "metadata": {},
   "outputs": [],
   "source": [
    "%load_ext autoreload"
   ]
  },
  {
   "cell_type": "code",
   "execution_count": 11,
   "id": "d8438da9-36f1-40ee-a1b8-b65233080999",
   "metadata": {},
   "outputs": [],
   "source": [
    "import sys\n",
    "import os"
   ]
  },
  {
   "cell_type": "code",
   "execution_count": 12,
   "id": "8494993a-78e9-48f9-b764-cd277da5423c",
   "metadata": {},
   "outputs": [],
   "source": [
    "os.environ['TRANSFORMERS_CACHE'] = '/mnt/swordfish-pool2/milad/hf-cache'\n",
    "os.environ['HF_DATASETS_CACHE'] = '/mnt/swordfish-pool2/milad/hf-cache'\n",
    "os.environ['OPENAI_API_KEY'] = 'zTbZNk16Ik1pZnqLn38ZT3BlbkFJImq3pd7widkr7RzsC771'\n",
    "os.environ['CUDA_VISIBLE_DEVICES'] = '3'\n",
    "sys.path.append('./src')"
   ]
  },
  {
   "cell_type": "code",
   "execution_count": 13,
   "id": "ef9cd191-1976-48d8-812e-3636136257ec",
   "metadata": {
    "scrolled": true
   },
   "outputs": [],
   "source": [
    "%autoreload\n",
    "\n",
    "import json\n",
    "from pathlib import Path\n",
    "import pandas as pd\n",
    "import numpy as np\n",
    "from sklearn.metrics.pairwise import cosine_similarity\n",
    "from sentence_transformers import SentenceTransformer\n",
    "from simpletransformers.classification import ClassificationModel\n",
    "\n",
    "import tqdm\n",
    "import random\n",
    "import datasets"
   ]
  },
  {
   "cell_type": "code",
   "execution_count": 10,
   "id": "30d9be86-82c6-4308-a8db-a72deaf16fdd",
   "metadata": {
    "scrolled": true
   },
   "outputs": [],
   "source": [
    "model = ClassificationModel(\"xlmroberta\", \"classla/xlm-roberta-base-multilingual-text-genre-classifier\", use_cuda=True)"
   ]
  },
  {
   "cell_type": "code",
   "execution_count": null,
   "id": "9bbfd2fe-d8cc-4306-bd75-d5bd9203d0c9",
   "metadata": {},
   "outputs": [],
   "source": [
    "predictions, logit_output = model.predict([\"How to create a good text classification model? First step is to prepare good data. Make sure not to skip the exploratory data analysis. Pre-process the text if necessary for the task. The next step is to perform hyperparameter search to find the optimum hyperparameters. After fine-tuning the model, you should look into the predictions and analyze the model's performance. You might want to perform the post-processing of data as well and keep only reliable predictions.\", \n",
    "                                        \"On our site, you can find a great genre identification model which you can use for thousands of different tasks. With our model, you can fastly and reliably obtain high-quality genre predictions and explore which genres exist in your corpora. Available for free!\"]\n",
    "                                        )\n",
    "predictions\n",
    "# Output: array([3, 8])\n",
    "\n",
    "[model.config.id2label[i] for i in predictions]\n",
    "# Output: ['Instruction', 'Promotion']\n"
   ]
  },
  {
   "cell_type": "code",
   "execution_count": null,
   "id": "6febf849-0c12-404e-8618-343eb5ff9dc1",
   "metadata": {},
   "outputs": [],
   "source": [
    "df_paths = Path(ds_path).glob(\"{}*.jsonl\".format(split))\n",
    "df_paths = [path for path in df_paths if 'filtered' not in str(path)]\n",
    "print(df_paths)\n",
    "\n",
    "dfs = {p: pd.read_json(p, lines=True) for p in df_paths}\n"
   ]
  },
  {
   "cell_type": "code",
   "execution_count": 18,
   "id": "5e7c398e-dba3-4987-9788-cfc544cb56ae",
   "metadata": {
    "scrolled": true
   },
   "outputs": [
    {
     "data": {
      "application/vnd.jupyter.widget-view+json": {
       "model_id": "12cdfe3a4e3141b485afdcf82af205e3",
       "version_major": 2,
       "version_minor": 0
      },
      "text/plain": [
       "Generating train split: 0 examples [00:00, ? examples/s]"
      ]
     },
     "metadata": {},
     "output_type": "display_data"
    }
   ],
   "source": [
    "dataset = datasets.load_dataset(\"json\", data_files=[\"/mnt/swordfish-pool2/milad/hiatus-data/performers-data/tmp-data/dev_queries.jsonl\"])"
   ]
  },
  {
   "cell_type": "code",
   "execution_count": 19,
   "id": "376506b2-2ec7-4ea0-bc62-a3a2b91b00bf",
   "metadata": {},
   "outputs": [
    {
     "data": {
      "text/plain": [
       "DatasetDict({\n",
       "    train: Dataset({\n",
       "        features: ['documentID', 'authorIDs', 'fullText', 'spanAttribution', 'collectionNum', 'source', 'dateCollected', 'publiclyAvailable', 'deidentified', 'languages', 'lengthWords', 'dateCreated', 'timeCreated', 'isForeground'],\n",
       "        num_rows: 33538\n",
       "    })\n",
       "})"
      ]
     },
     "execution_count": 19,
     "metadata": {},
     "output_type": "execute_result"
    }
   ],
   "source": [
    "dataset"
   ]
  },
  {
   "cell_type": "code",
   "execution_count": 5,
   "id": "ab04eff5-8868-47f9-bd70-7da78535f56e",
   "metadata": {},
   "outputs": [],
   "source": [
    "def author_pair_similarity(documents_ids, documents):\n",
    "    #print(documents)\n",
    "    document_embeddings = model.encode(documents)\n",
    "    #print(document_embeddings)\n",
    "    pairwise_sim = cosine_similarity(document_embeddings, dense_output=True)\n",
    "    #print(pairwise_sim)\n",
    "    docs_sims = {}\n",
    "    for i, di in enumerate(documents_ids):\n",
    "        for j, dj in enumerate(documents_ids):\n",
    "            if j <= i:\n",
    "                continue\n",
    "            docs_sims[(di, dj)] = pairwise_sim[i,j]\n",
    "            \n",
    "    return docs_sims"
   ]
  },
  {
   "cell_type": "code",
   "execution_count": 7,
   "id": "25390d7a-9c7c-4660-87d5-376f49bdacb2",
   "metadata": {
    "scrolled": true
   },
   "outputs": [
    {
     "name": "stdout",
     "output_type": "stream",
     "text": [
      "[PosixPath('/burg/old_dsi/users/ma4608/hiatus_performers_data/sadiri/gmane/dev_candidates.jsonl'), PosixPath('/burg/old_dsi/users/ma4608/hiatus_performers_data/sadiri/gmane/dev_queries.jsonl')]\n"
     ]
    },
    {
     "name": "stderr",
     "output_type": "stream",
     "text": [
      "33538it [03:46, 147.76it/s]\n"
     ]
    },
    {
     "name": "stdout",
     "output_type": "stream",
     "text": [
      "/burg/old_dsi/users/ma4608/hiatus_performers_data/sadiri/gmane/dev_candidates.jsonl 33538 --> 5000\n",
      "/burg/old_dsi/users/ma4608/hiatus_performers_data/sadiri/gmane/dev_queries.jsonl 33538 --> 5000\n",
      "[PosixPath('/burg/old_dsi/users/ma4608/hiatus_performers_data/sadiri/gmane/test_candidates.jsonl'), PosixPath('/burg/old_dsi/users/ma4608/hiatus_performers_data/sadiri/gmane/test_queries.jsonl')]\n"
     ]
    },
    {
     "name": "stderr",
     "output_type": "stream",
     "text": [
      "65102it [06:54, 157.21it/s]\n"
     ]
    },
    {
     "name": "stdout",
     "output_type": "stream",
     "text": [
      "/burg/old_dsi/users/ma4608/hiatus_performers_data/sadiri/gmane/test_candidates.jsonl 65102 --> 5000\n",
      "/burg/old_dsi/users/ma4608/hiatus_performers_data/sadiri/gmane/test_queries.jsonl 65103 --> 5000\n",
      "[PosixPath('/burg/old_dsi/users/ma4608/hiatus_performers_data/sadiri/gmane/train_candidates.jsonl'), PosixPath('/burg/old_dsi/users/ma4608/hiatus_performers_data/sadiri/gmane/train_queries.jsonl')]\n"
     ]
    },
    {
     "name": "stderr",
     "output_type": "stream",
     "text": [
      "558885it [59:37, 156.24it/s]\n"
     ]
    },
    {
     "name": "stdout",
     "output_type": "stream",
     "text": [
      "/burg/old_dsi/users/ma4608/hiatus_performers_data/sadiri/gmane/train_candidates.jsonl 558926 --> 50000\n",
      "/burg/old_dsi/users/ma4608/hiatus_performers_data/sadiri/gmane/train_queries.jsonl 558918 --> 50000\n"
     ]
    }
   ],
   "source": [
    "#ds_path = '/mnt/swordfish-pool2/milad/hiatus-data/performers-data/tmp-data/'\n",
    "ds_path = '/burg/old_dsi/users/ma4608/hiatus_performers_data/sadiri/gmane/'\n",
    "df_info = extract_split_similarity_info(ds_path, 'dev', max_sample_size=5000)\n",
    "df_info = extract_split_similarity_info(ds_path, 'test', max_sample_size=5000)\n",
    "df_info = extract_split_similarity_info(ds_path, 'train', max_sample_size=50000)"
   ]
  },
  {
   "cell_type": "code",
   "execution_count": 8,
   "id": "be52b80a-0807-476f-8be9-aaa41cfc770c",
   "metadata": {
    "scrolled": true
   },
   "outputs": [
    {
     "name": "stdout",
     "output_type": "stream",
     "text": [
      "[PosixPath('/burg/old_dsi/users/ma4608/hiatus_performers_data/sadiri/bookcorpus/dev_candidates.jsonl'), PosixPath('/burg/old_dsi/users/ma4608/hiatus_performers_data/sadiri/bookcorpus/dev_queries.jsonl')]\n"
     ]
    },
    {
     "name": "stderr",
     "output_type": "stream",
     "text": [
      "3379it [00:29, 116.21it/s]\n"
     ]
    },
    {
     "name": "stdout",
     "output_type": "stream",
     "text": [
      "/burg/old_dsi/users/ma4608/hiatus_performers_data/sadiri/bookcorpus/dev_candidates.jsonl 3379 --> 437\n",
      "/burg/old_dsi/users/ma4608/hiatus_performers_data/sadiri/bookcorpus/dev_queries.jsonl 3379 --> 437\n",
      "[PosixPath('/burg/old_dsi/users/ma4608/hiatus_performers_data/sadiri/bookcorpus/test_candidates.jsonl'), PosixPath('/burg/old_dsi/users/ma4608/hiatus_performers_data/sadiri/bookcorpus/test_queries.jsonl')]\n"
     ]
    },
    {
     "name": "stderr",
     "output_type": "stream",
     "text": [
      "6560it [00:56, 116.87it/s]\n"
     ]
    },
    {
     "name": "stdout",
     "output_type": "stream",
     "text": [
      "/burg/old_dsi/users/ma4608/hiatus_performers_data/sadiri/bookcorpus/test_candidates.jsonl 6560 --> 891\n",
      "/burg/old_dsi/users/ma4608/hiatus_performers_data/sadiri/bookcorpus/test_queries.jsonl 6560 --> 891\n",
      "[PosixPath('/burg/old_dsi/users/ma4608/hiatus_performers_data/sadiri/bookcorpus/train_candidates.jsonl'), PosixPath('/burg/old_dsi/users/ma4608/hiatus_performers_data/sadiri/bookcorpus/train_queries.jsonl')]\n"
     ]
    },
    {
     "name": "stderr",
     "output_type": "stream",
     "text": [
      "56319it [08:05, 115.93it/s]\n"
     ]
    },
    {
     "name": "stdout",
     "output_type": "stream",
     "text": [
      "/burg/old_dsi/users/ma4608/hiatus_performers_data/sadiri/bookcorpus/train_candidates.jsonl 56319 --> 7469\n",
      "/burg/old_dsi/users/ma4608/hiatus_performers_data/sadiri/bookcorpus/train_queries.jsonl 56319 --> 7469\n"
     ]
    }
   ],
   "source": [
    "#ds_path = '/mnt/swordfish-pool2/milad/hiatus-data/performers-data/tmp-data/'\n",
    "ds_path = '/burg/old_dsi/users/ma4608/hiatus_performers_data/sadiri/bookcorpus/'\n",
    "df_info = extract_split_similarity_info(ds_path, 'dev', max_sample_size=5000)\n",
    "df_info = extract_split_similarity_info(ds_path, 'test', max_sample_size=5000)\n",
    "df_info = extract_split_similarity_info(ds_path, 'train', max_sample_size=50000)"
   ]
  },
  {
   "cell_type": "code",
   "execution_count": 9,
   "id": "17b242cd-fcac-4445-b18d-0dd42b0a994c",
   "metadata": {
    "scrolled": true
   },
   "outputs": [
    {
     "name": "stdout",
     "output_type": "stream",
     "text": [
      "[PosixPath('/burg/old_dsi/users/ma4608/hiatus_performers_data/sadiri/realnews/dev_candidates.jsonl'), PosixPath('/burg/old_dsi/users/ma4608/hiatus_performers_data/sadiri/realnews/dev_queries.jsonl')]\n"
     ]
    },
    {
     "name": "stderr",
     "output_type": "stream",
     "text": [
      "10861it [01:48, 100.14it/s]\n"
     ]
    },
    {
     "name": "stdout",
     "output_type": "stream",
     "text": [
      "/burg/old_dsi/users/ma4608/hiatus_performers_data/sadiri/realnews/dev_candidates.jsonl 10861 --> 2847\n",
      "/burg/old_dsi/users/ma4608/hiatus_performers_data/sadiri/realnews/dev_queries.jsonl 10861 --> 2847\n",
      "[PosixPath('/burg/old_dsi/users/ma4608/hiatus_performers_data/sadiri/realnews/test_candidates.jsonl'), PosixPath('/burg/old_dsi/users/ma4608/hiatus_performers_data/sadiri/realnews/test_queries.jsonl')]\n"
     ]
    },
    {
     "name": "stderr",
     "output_type": "stream",
     "text": [
      "21085it [03:33, 98.56it/s] \n"
     ]
    },
    {
     "name": "stdout",
     "output_type": "stream",
     "text": [
      "/burg/old_dsi/users/ma4608/hiatus_performers_data/sadiri/realnews/test_candidates.jsonl 21085 --> 5000\n",
      "/burg/old_dsi/users/ma4608/hiatus_performers_data/sadiri/realnews/test_queries.jsonl 21085 --> 5000\n",
      "[PosixPath('/burg/old_dsi/users/ma4608/hiatus_performers_data/sadiri/realnews/train_candidates.jsonl'), PosixPath('/burg/old_dsi/users/ma4608/hiatus_performers_data/sadiri/realnews/train_queries.jsonl')]\n"
     ]
    },
    {
     "name": "stderr",
     "output_type": "stream",
     "text": [
      "181024it [30:11, 99.92it/s] \n"
     ]
    },
    {
     "name": "stdout",
     "output_type": "stream",
     "text": [
      "/burg/old_dsi/users/ma4608/hiatus_performers_data/sadiri/realnews/train_candidates.jsonl 181024 --> 46617\n",
      "/burg/old_dsi/users/ma4608/hiatus_performers_data/sadiri/realnews/train_queries.jsonl 181024 --> 46617\n"
     ]
    }
   ],
   "source": [
    "#ds_path = '/mnt/swordfish-pool2/milad/hiatus-data/performers-data/tmp-data/'\n",
    "ds_path = '/burg/old_dsi/users/ma4608/hiatus_performers_data/sadiri/realnews'\n",
    "df_info = extract_split_similarity_info(ds_path, 'dev', max_sample_size=5000)\n",
    "df_info = extract_split_similarity_info(ds_path, 'test', max_sample_size=5000)\n",
    "df_info = extract_split_similarity_info(ds_path, 'train', max_sample_size=50000)"
   ]
  },
  {
   "cell_type": "code",
   "execution_count": null,
   "id": "ab21e8d6-49a9-4694-b514-6333de2eabca",
   "metadata": {
    "scrolled": true
   },
   "outputs": [
    {
     "name": "stdout",
     "output_type": "stream",
     "text": [
      "[PosixPath('/burg/old_dsi/users/ma4608/hiatus_performers_data/sadiri/ao3/dev_candidates.jsonl'), PosixPath('/burg/old_dsi/users/ma4608/hiatus_performers_data/sadiri/ao3/dev_queries.jsonl')]\n"
     ]
    }
   ],
   "source": [
    "#ds_path = '/mnt/swordfish-pool2/milad/hiatus-data/performers-data/tmp-data/'\n",
    "ds_path = '/burg/old_dsi/users/ma4608/hiatus_performers_data/sadiri/ao3/'\n",
    "df_info = extract_split_similarity_info(ds_path, 'dev', max_sample_size=5000)\n",
    "df_info = extract_split_similarity_info(ds_path, 'test', max_sample_size=5000)\n",
    "df_info = extract_split_similarity_info(ds_path, 'train', max_sample_size=25000)"
   ]
  },
  {
   "cell_type": "code",
   "execution_count": 1,
   "id": "e067342c-d4a9-4bdd-b4e2-6eb569af5255",
   "metadata": {
    "scrolled": true
   },
   "outputs": [],
   "source": [
    "# from datasets import Dataset, load_dataset\n",
    "# ao3 = load_dataset('json', data_files={'train': ['/burg/old_dsi/users/ma4608/hiatus_performers_data/sadiri/ao3/train_queries.jsonl', '/burg/old_dsi/users/ma4608/hiatus_performers_data/sadiri/ao3/train_candidates.jsonl'],})\n",
    "# ao3_sample = ao3['train']#.select(range(10))\n",
    "# ao3_sample = ao3_sample.map(lambda row: {'authorID': row['authorIDs'][0]})\n",
    "\n",
    "# import polars as pl\n",
    "# polars_df = ao3_sample.to_polars()\n",
    "# polars_df = polars_df.group_by('authorID').agg(pl.col(\"fullText\"))"
   ]
  }
 ],
 "metadata": {
  "kernelspec": {
   "display_name": "Python 3 (ipykernel)",
   "language": "python",
   "name": "python3"
  },
  "language_info": {
   "codemirror_mode": {
    "name": "ipython",
    "version": 3
   },
   "file_extension": ".py",
   "mimetype": "text/x-python",
   "name": "python",
   "nbconvert_exporter": "python",
   "pygments_lexer": "ipython3",
   "version": "3.11.9"
  }
 },
 "nbformat": 4,
 "nbformat_minor": 5
}
